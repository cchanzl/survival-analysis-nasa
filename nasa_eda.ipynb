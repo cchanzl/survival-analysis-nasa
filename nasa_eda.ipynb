{
 "cells": [
  {
   "cell_type": "code",
   "execution_count": 1,
   "metadata": {
    "scrolled": false
   },
   "outputs": [],
   "source": [
    "import pandas as pd\n",
    "import matplotlib.pyplot as plt\n",
    "import numpy as np\n",
    "from scipy import stats\n",
    "\n",
    "header = [\"unit num\", \"cycle\", \"op1\", \"op2\", \"op3\"]\n",
    "for i in range(0, 26):\n",
    "    name = \"sens\"\n",
    "    name = name + str(i+1)\n",
    "    header.append(name)\n",
    "\n",
    "df_RUL_001 = pd.read_csv('Dataset\\RUL_FD001.txt', delimiter = \" \")\n",
    "df_train_001 = pd.read_csv('Dataset\\\\train_FD001.txt', delimiter = \" \", names=header)"
   ]
  },
  {
   "cell_type": "code",
   "execution_count": 2,
   "metadata": {
    "scrolled": true
   },
   "outputs": [
    {
     "name": "stdout",
     "output_type": "stream",
     "text": [
      "<class 'pandas.core.frame.DataFrame'>\n",
      "RangeIndex: 99 entries, 0 to 98\n",
      "Data columns (total 2 columns):\n",
      " #   Column      Non-Null Count  Dtype  \n",
      "---  ------      --------------  -----  \n",
      " 0   112         99 non-null     int64  \n",
      " 1   Unnamed: 1  0 non-null      float64\n",
      "dtypes: float64(1), int64(1)\n",
      "memory usage: 1.7 KB\n"
     ]
    },
    {
     "data": {
      "text/html": [
       "<div>\n",
       "<style scoped>\n",
       "    .dataframe tbody tr th:only-of-type {\n",
       "        vertical-align: middle;\n",
       "    }\n",
       "\n",
       "    .dataframe tbody tr th {\n",
       "        vertical-align: top;\n",
       "    }\n",
       "\n",
       "    .dataframe thead th {\n",
       "        text-align: right;\n",
       "    }\n",
       "</style>\n",
       "<table border=\"1\" class=\"dataframe\">\n",
       "  <thead>\n",
       "    <tr style=\"text-align: right;\">\n",
       "      <th></th>\n",
       "      <th>112</th>\n",
       "      <th>Unnamed: 1</th>\n",
       "    </tr>\n",
       "  </thead>\n",
       "  <tbody>\n",
       "    <tr>\n",
       "      <th>0</th>\n",
       "      <td>98</td>\n",
       "      <td>NaN</td>\n",
       "    </tr>\n",
       "    <tr>\n",
       "      <th>1</th>\n",
       "      <td>69</td>\n",
       "      <td>NaN</td>\n",
       "    </tr>\n",
       "    <tr>\n",
       "      <th>2</th>\n",
       "      <td>82</td>\n",
       "      <td>NaN</td>\n",
       "    </tr>\n",
       "    <tr>\n",
       "      <th>3</th>\n",
       "      <td>91</td>\n",
       "      <td>NaN</td>\n",
       "    </tr>\n",
       "    <tr>\n",
       "      <th>4</th>\n",
       "      <td>93</td>\n",
       "      <td>NaN</td>\n",
       "    </tr>\n",
       "    <tr>\n",
       "      <th>5</th>\n",
       "      <td>91</td>\n",
       "      <td>NaN</td>\n",
       "    </tr>\n",
       "    <tr>\n",
       "      <th>6</th>\n",
       "      <td>95</td>\n",
       "      <td>NaN</td>\n",
       "    </tr>\n",
       "    <tr>\n",
       "      <th>7</th>\n",
       "      <td>111</td>\n",
       "      <td>NaN</td>\n",
       "    </tr>\n",
       "    <tr>\n",
       "      <th>8</th>\n",
       "      <td>96</td>\n",
       "      <td>NaN</td>\n",
       "    </tr>\n",
       "    <tr>\n",
       "      <th>9</th>\n",
       "      <td>97</td>\n",
       "      <td>NaN</td>\n",
       "    </tr>\n",
       "  </tbody>\n",
       "</table>\n",
       "</div>"
      ],
      "text/plain": [
       "   112  Unnamed: 1\n",
       "0   98         NaN\n",
       "1   69         NaN\n",
       "2   82         NaN\n",
       "3   91         NaN\n",
       "4   93         NaN\n",
       "5   91         NaN\n",
       "6   95         NaN\n",
       "7  111         NaN\n",
       "8   96         NaN\n",
       "9   97         NaN"
      ]
     },
     "execution_count": 2,
     "metadata": {},
     "output_type": "execute_result"
    }
   ],
   "source": [
    "df_RUL_001.info()"
   ]
  },
  {
   "cell_type": "code",
   "execution_count": 3,
   "metadata": {},
   "outputs": [
    {
     "data": {
      "text/html": [
       "<div>\n",
       "<style scoped>\n",
       "    .dataframe tbody tr th:only-of-type {\n",
       "        vertical-align: middle;\n",
       "    }\n",
       "\n",
       "    .dataframe tbody tr th {\n",
       "        vertical-align: top;\n",
       "    }\n",
       "\n",
       "    .dataframe thead th {\n",
       "        text-align: right;\n",
       "    }\n",
       "</style>\n",
       "<table border=\"1\" class=\"dataframe\">\n",
       "  <thead>\n",
       "    <tr style=\"text-align: right;\">\n",
       "      <th></th>\n",
       "      <th>unit num</th>\n",
       "      <th>cycle</th>\n",
       "      <th>op1</th>\n",
       "      <th>op2</th>\n",
       "      <th>op3</th>\n",
       "      <th>sens1</th>\n",
       "      <th>sens2</th>\n",
       "      <th>sens3</th>\n",
       "      <th>sens4</th>\n",
       "      <th>sens5</th>\n",
       "      <th>...</th>\n",
       "      <th>sens17</th>\n",
       "      <th>sens18</th>\n",
       "      <th>sens19</th>\n",
       "      <th>sens20</th>\n",
       "      <th>sens21</th>\n",
       "      <th>sens22</th>\n",
       "      <th>sens23</th>\n",
       "      <th>sens24</th>\n",
       "      <th>sens25</th>\n",
       "      <th>sens26</th>\n",
       "    </tr>\n",
       "  </thead>\n",
       "  <tbody>\n",
       "    <tr>\n",
       "      <th>0</th>\n",
       "      <td>1</td>\n",
       "      <td>1</td>\n",
       "      <td>-0.0007</td>\n",
       "      <td>-0.0004</td>\n",
       "      <td>100.0</td>\n",
       "      <td>518.67</td>\n",
       "      <td>641.82</td>\n",
       "      <td>1589.70</td>\n",
       "      <td>1400.60</td>\n",
       "      <td>14.62</td>\n",
       "      <td>...</td>\n",
       "      <td>392</td>\n",
       "      <td>2388</td>\n",
       "      <td>100.0</td>\n",
       "      <td>39.06</td>\n",
       "      <td>23.4190</td>\n",
       "      <td>NaN</td>\n",
       "      <td>NaN</td>\n",
       "      <td>NaN</td>\n",
       "      <td>NaN</td>\n",
       "      <td>NaN</td>\n",
       "    </tr>\n",
       "    <tr>\n",
       "      <th>1</th>\n",
       "      <td>1</td>\n",
       "      <td>2</td>\n",
       "      <td>0.0019</td>\n",
       "      <td>-0.0003</td>\n",
       "      <td>100.0</td>\n",
       "      <td>518.67</td>\n",
       "      <td>642.15</td>\n",
       "      <td>1591.82</td>\n",
       "      <td>1403.14</td>\n",
       "      <td>14.62</td>\n",
       "      <td>...</td>\n",
       "      <td>392</td>\n",
       "      <td>2388</td>\n",
       "      <td>100.0</td>\n",
       "      <td>39.00</td>\n",
       "      <td>23.4236</td>\n",
       "      <td>NaN</td>\n",
       "      <td>NaN</td>\n",
       "      <td>NaN</td>\n",
       "      <td>NaN</td>\n",
       "      <td>NaN</td>\n",
       "    </tr>\n",
       "    <tr>\n",
       "      <th>2</th>\n",
       "      <td>1</td>\n",
       "      <td>3</td>\n",
       "      <td>-0.0043</td>\n",
       "      <td>0.0003</td>\n",
       "      <td>100.0</td>\n",
       "      <td>518.67</td>\n",
       "      <td>642.35</td>\n",
       "      <td>1587.99</td>\n",
       "      <td>1404.20</td>\n",
       "      <td>14.62</td>\n",
       "      <td>...</td>\n",
       "      <td>390</td>\n",
       "      <td>2388</td>\n",
       "      <td>100.0</td>\n",
       "      <td>38.95</td>\n",
       "      <td>23.3442</td>\n",
       "      <td>NaN</td>\n",
       "      <td>NaN</td>\n",
       "      <td>NaN</td>\n",
       "      <td>NaN</td>\n",
       "      <td>NaN</td>\n",
       "    </tr>\n",
       "    <tr>\n",
       "      <th>3</th>\n",
       "      <td>1</td>\n",
       "      <td>4</td>\n",
       "      <td>0.0007</td>\n",
       "      <td>0.0000</td>\n",
       "      <td>100.0</td>\n",
       "      <td>518.67</td>\n",
       "      <td>642.35</td>\n",
       "      <td>1582.79</td>\n",
       "      <td>1401.87</td>\n",
       "      <td>14.62</td>\n",
       "      <td>...</td>\n",
       "      <td>392</td>\n",
       "      <td>2388</td>\n",
       "      <td>100.0</td>\n",
       "      <td>38.88</td>\n",
       "      <td>23.3739</td>\n",
       "      <td>NaN</td>\n",
       "      <td>NaN</td>\n",
       "      <td>NaN</td>\n",
       "      <td>NaN</td>\n",
       "      <td>NaN</td>\n",
       "    </tr>\n",
       "    <tr>\n",
       "      <th>4</th>\n",
       "      <td>1</td>\n",
       "      <td>5</td>\n",
       "      <td>-0.0019</td>\n",
       "      <td>-0.0002</td>\n",
       "      <td>100.0</td>\n",
       "      <td>518.67</td>\n",
       "      <td>642.37</td>\n",
       "      <td>1582.85</td>\n",
       "      <td>1406.22</td>\n",
       "      <td>14.62</td>\n",
       "      <td>...</td>\n",
       "      <td>393</td>\n",
       "      <td>2388</td>\n",
       "      <td>100.0</td>\n",
       "      <td>38.90</td>\n",
       "      <td>23.4044</td>\n",
       "      <td>NaN</td>\n",
       "      <td>NaN</td>\n",
       "      <td>NaN</td>\n",
       "      <td>NaN</td>\n",
       "      <td>NaN</td>\n",
       "    </tr>\n",
       "    <tr>\n",
       "      <th>5</th>\n",
       "      <td>1</td>\n",
       "      <td>6</td>\n",
       "      <td>-0.0043</td>\n",
       "      <td>-0.0001</td>\n",
       "      <td>100.0</td>\n",
       "      <td>518.67</td>\n",
       "      <td>642.10</td>\n",
       "      <td>1584.47</td>\n",
       "      <td>1398.37</td>\n",
       "      <td>14.62</td>\n",
       "      <td>...</td>\n",
       "      <td>391</td>\n",
       "      <td>2388</td>\n",
       "      <td>100.0</td>\n",
       "      <td>38.98</td>\n",
       "      <td>23.3669</td>\n",
       "      <td>NaN</td>\n",
       "      <td>NaN</td>\n",
       "      <td>NaN</td>\n",
       "      <td>NaN</td>\n",
       "      <td>NaN</td>\n",
       "    </tr>\n",
       "    <tr>\n",
       "      <th>6</th>\n",
       "      <td>1</td>\n",
       "      <td>7</td>\n",
       "      <td>0.0010</td>\n",
       "      <td>0.0001</td>\n",
       "      <td>100.0</td>\n",
       "      <td>518.67</td>\n",
       "      <td>642.48</td>\n",
       "      <td>1592.32</td>\n",
       "      <td>1397.77</td>\n",
       "      <td>14.62</td>\n",
       "      <td>...</td>\n",
       "      <td>392</td>\n",
       "      <td>2388</td>\n",
       "      <td>100.0</td>\n",
       "      <td>39.10</td>\n",
       "      <td>23.3774</td>\n",
       "      <td>NaN</td>\n",
       "      <td>NaN</td>\n",
       "      <td>NaN</td>\n",
       "      <td>NaN</td>\n",
       "      <td>NaN</td>\n",
       "    </tr>\n",
       "    <tr>\n",
       "      <th>7</th>\n",
       "      <td>1</td>\n",
       "      <td>8</td>\n",
       "      <td>-0.0034</td>\n",
       "      <td>0.0003</td>\n",
       "      <td>100.0</td>\n",
       "      <td>518.67</td>\n",
       "      <td>642.56</td>\n",
       "      <td>1582.96</td>\n",
       "      <td>1400.97</td>\n",
       "      <td>14.62</td>\n",
       "      <td>...</td>\n",
       "      <td>391</td>\n",
       "      <td>2388</td>\n",
       "      <td>100.0</td>\n",
       "      <td>38.97</td>\n",
       "      <td>23.3106</td>\n",
       "      <td>NaN</td>\n",
       "      <td>NaN</td>\n",
       "      <td>NaN</td>\n",
       "      <td>NaN</td>\n",
       "      <td>NaN</td>\n",
       "    </tr>\n",
       "    <tr>\n",
       "      <th>8</th>\n",
       "      <td>1</td>\n",
       "      <td>9</td>\n",
       "      <td>0.0008</td>\n",
       "      <td>0.0001</td>\n",
       "      <td>100.0</td>\n",
       "      <td>518.67</td>\n",
       "      <td>642.12</td>\n",
       "      <td>1590.98</td>\n",
       "      <td>1394.80</td>\n",
       "      <td>14.62</td>\n",
       "      <td>...</td>\n",
       "      <td>392</td>\n",
       "      <td>2388</td>\n",
       "      <td>100.0</td>\n",
       "      <td>39.05</td>\n",
       "      <td>23.4066</td>\n",
       "      <td>NaN</td>\n",
       "      <td>NaN</td>\n",
       "      <td>NaN</td>\n",
       "      <td>NaN</td>\n",
       "      <td>NaN</td>\n",
       "    </tr>\n",
       "    <tr>\n",
       "      <th>9</th>\n",
       "      <td>1</td>\n",
       "      <td>10</td>\n",
       "      <td>-0.0033</td>\n",
       "      <td>0.0001</td>\n",
       "      <td>100.0</td>\n",
       "      <td>518.67</td>\n",
       "      <td>641.71</td>\n",
       "      <td>1591.24</td>\n",
       "      <td>1400.46</td>\n",
       "      <td>14.62</td>\n",
       "      <td>...</td>\n",
       "      <td>393</td>\n",
       "      <td>2388</td>\n",
       "      <td>100.0</td>\n",
       "      <td>38.95</td>\n",
       "      <td>23.4694</td>\n",
       "      <td>NaN</td>\n",
       "      <td>NaN</td>\n",
       "      <td>NaN</td>\n",
       "      <td>NaN</td>\n",
       "      <td>NaN</td>\n",
       "    </tr>\n",
       "  </tbody>\n",
       "</table>\n",
       "<p>10 rows × 31 columns</p>\n",
       "</div>"
      ],
      "text/plain": [
       "   unit num  cycle     op1     op2    op3   sens1   sens2    sens3    sens4  \\\n",
       "0         1      1 -0.0007 -0.0004  100.0  518.67  641.82  1589.70  1400.60   \n",
       "1         1      2  0.0019 -0.0003  100.0  518.67  642.15  1591.82  1403.14   \n",
       "2         1      3 -0.0043  0.0003  100.0  518.67  642.35  1587.99  1404.20   \n",
       "3         1      4  0.0007  0.0000  100.0  518.67  642.35  1582.79  1401.87   \n",
       "4         1      5 -0.0019 -0.0002  100.0  518.67  642.37  1582.85  1406.22   \n",
       "5         1      6 -0.0043 -0.0001  100.0  518.67  642.10  1584.47  1398.37   \n",
       "6         1      7  0.0010  0.0001  100.0  518.67  642.48  1592.32  1397.77   \n",
       "7         1      8 -0.0034  0.0003  100.0  518.67  642.56  1582.96  1400.97   \n",
       "8         1      9  0.0008  0.0001  100.0  518.67  642.12  1590.98  1394.80   \n",
       "9         1     10 -0.0033  0.0001  100.0  518.67  641.71  1591.24  1400.46   \n",
       "\n",
       "   sens5  ...  sens17  sens18  sens19  sens20   sens21  sens22  sens23  \\\n",
       "0  14.62  ...     392    2388   100.0   39.06  23.4190     NaN     NaN   \n",
       "1  14.62  ...     392    2388   100.0   39.00  23.4236     NaN     NaN   \n",
       "2  14.62  ...     390    2388   100.0   38.95  23.3442     NaN     NaN   \n",
       "3  14.62  ...     392    2388   100.0   38.88  23.3739     NaN     NaN   \n",
       "4  14.62  ...     393    2388   100.0   38.90  23.4044     NaN     NaN   \n",
       "5  14.62  ...     391    2388   100.0   38.98  23.3669     NaN     NaN   \n",
       "6  14.62  ...     392    2388   100.0   39.10  23.3774     NaN     NaN   \n",
       "7  14.62  ...     391    2388   100.0   38.97  23.3106     NaN     NaN   \n",
       "8  14.62  ...     392    2388   100.0   39.05  23.4066     NaN     NaN   \n",
       "9  14.62  ...     393    2388   100.0   38.95  23.4694     NaN     NaN   \n",
       "\n",
       "   sens24  sens25  sens26  \n",
       "0     NaN     NaN     NaN  \n",
       "1     NaN     NaN     NaN  \n",
       "2     NaN     NaN     NaN  \n",
       "3     NaN     NaN     NaN  \n",
       "4     NaN     NaN     NaN  \n",
       "5     NaN     NaN     NaN  \n",
       "6     NaN     NaN     NaN  \n",
       "7     NaN     NaN     NaN  \n",
       "8     NaN     NaN     NaN  \n",
       "9     NaN     NaN     NaN  \n",
       "\n",
       "[10 rows x 31 columns]"
      ]
     },
     "execution_count": 3,
     "metadata": {},
     "output_type": "execute_result"
    }
   ],
   "source": [
    "df_train_001.head(10)"
   ]
  },
  {
   "cell_type": "code",
   "execution_count": 4,
   "metadata": {},
   "outputs": [
    {
     "name": "stdout",
     "output_type": "stream",
     "text": [
      "<class 'pandas.core.frame.DataFrame'>\n",
      "RangeIndex: 20631 entries, 0 to 20630\n",
      "Data columns (total 31 columns):\n",
      " #   Column    Non-Null Count  Dtype  \n",
      "---  ------    --------------  -----  \n",
      " 0   unit num  20631 non-null  int64  \n",
      " 1   cycle     20631 non-null  int64  \n",
      " 2   op1       20631 non-null  float64\n",
      " 3   op2       20631 non-null  float64\n",
      " 4   op3       20631 non-null  float64\n",
      " 5   sens1     20631 non-null  float64\n",
      " 6   sens2     20631 non-null  float64\n",
      " 7   sens3     20631 non-null  float64\n",
      " 8   sens4     20631 non-null  float64\n",
      " 9   sens5     20631 non-null  float64\n",
      " 10  sens6     20631 non-null  float64\n",
      " 11  sens7     20631 non-null  float64\n",
      " 12  sens8     20631 non-null  float64\n",
      " 13  sens9     20631 non-null  float64\n",
      " 14  sens10    20631 non-null  float64\n",
      " 15  sens11    20631 non-null  float64\n",
      " 16  sens12    20631 non-null  float64\n",
      " 17  sens13    20631 non-null  float64\n",
      " 18  sens14    20631 non-null  float64\n",
      " 19  sens15    20631 non-null  float64\n",
      " 20  sens16    20631 non-null  float64\n",
      " 21  sens17    20631 non-null  int64  \n",
      " 22  sens18    20631 non-null  int64  \n",
      " 23  sens19    20631 non-null  float64\n",
      " 24  sens20    20631 non-null  float64\n",
      " 25  sens21    20631 non-null  float64\n",
      " 26  sens22    0 non-null      float64\n",
      " 27  sens23    0 non-null      float64\n",
      " 28  sens24    0 non-null      float64\n",
      " 29  sens25    0 non-null      float64\n",
      " 30  sens26    0 non-null      float64\n",
      "dtypes: float64(27), int64(4)\n",
      "memory usage: 4.9 MB\n"
     ]
    }
   ],
   "source": [
    "df_train_001.info()"
   ]
  },
  {
   "cell_type": "markdown",
   "metadata": {},
   "source": [
    "# Graphs to illustrate data"
   ]
  },
  {
   "cell_type": "code",
   "execution_count": 5,
   "metadata": {
    "scrolled": false
   },
   "outputs": [],
   "source": [
    "# to show avg cycle at which event occurred\n",
    "avg_cycle = []\n",
    "for i in range(1, 101):\n",
    "    df_engine = df_train_001[df_train_001['unit num'] == i]\n",
    "    max_cycle = df_engine.loc[df_engine['cycle'].idxmax()]\n",
    "    avg_cycle.append(max_cycle[\"cycle\"].astype(int))"
   ]
  },
  {
   "cell_type": "code",
   "execution_count": 6,
   "metadata": {},
   "outputs": [
    {
     "data": {
      "image/png": "[encoded data removed]",
      "text/plain": [
       "<Figure size 432x288 with 1 Axes>"
      ]
     },
     "metadata": {
      "needs_background": "light"
     },
     "output_type": "display_data"
    }
   ],
   "source": [
    "plt.scatter(range(1, 101), avg_cycle, marker='o')\n",
    "plt.xlabel(\"Engine Number\")\n",
    "plt.ylabel(\"Failure Cycle\")\n",
    "plt.title(\"Cycle when failure occurs\")\n",
    "plt.show()"
   ]
  },
  {
   "cell_type": "code",
   "execution_count": 7,
   "metadata": {},
   "outputs": [
    {
     "name": "stdout",
     "output_type": "stream",
     "text": [
      "DescribeResult(nobs=100, minmax=(128, 362), mean=206.31, variance=2147.6504040404043, skewness=1.0159342583415127, kurtosis=1.113867529578351)\n"
     ]
    }
   ],
   "source": [
    "print(stats.describe(avg_cycle))"
   ]
  },
  {
   "cell_type": "markdown",
   "metadata": {},
   "source": [
    "# Print variation of signals from selected sensor"
   ]
  },
  {
   "cell_type": "code",
   "execution_count": 78,
   "metadata": {},
   "outputs": [
    {
     "data": {
      "image/png": "[encoded data removed]",
      "text/plain": [
       "<Figure size 432x288 with 1 Axes>"
      ]
     },
     "metadata": {
      "needs_background": "light"
     },
     "output_type": "display_data"
    }
   ],
   "source": [
    "sensor = 'sens2'\n",
    "for i in range(1, 101):\n",
    "    df_engine = df_train_001[df_train_001['unit num'] == i]\n",
    "    plt.plot(df_engine['cycle'], df_engine[sensor])\n",
    "plt.show()"
   ]
  },
  {
   "cell_type": "markdown",
   "metadata": {},
   "source": [
    "# Preprocessing step 1: select useful sensor signals"
   ]
  },
  {
   "cell_type": "code",
   "execution_count": 9,
   "metadata": {},
   "outputs": [],
   "source": [
    "# extract mean trend\n",
    "no_columns = 21\n",
    "up_sensor_values = np.empty([max(avg_cycle), no_columns]) # 26 sensors with a max cycle of 362\n",
    "lo_sensor_values = np.empty([max(avg_cycle), no_columns]) # 26 sensors with a max cycle of 362\n",
    "for col in range(0, no_columns):\n",
    "    sensor = 'sens'\n",
    "    sensor = sensor + str(col+1)\n",
    "    for row in range(0, max(avg_cycle)):\n",
    "        df_train_sens = df_train_001[['cycle', sensor]]\n",
    "        df_train_sens = df_train_001[df_train_001['cycle'] == row+1]\n",
    "        max_value = df_train_sens.loc[df_train_sens[sensor].idxmax()]\n",
    "        min_value = df_train_sens.loc[df_train_sens[sensor].idxmin()]\n",
    "        up_sensor_values[row, col] = max_value[sensor]\n",
    "        lo_sensor_values[row, col] = min_value[sensor]"
   ]
  },
  {
   "cell_type": "code",
   "execution_count": 19,
   "metadata": {},
   "outputs": [
    {
     "name": "stdout",
     "output_type": "stream",
     "text": [
      "[[ 518.67    642.43   1585.2    ...  100.       38.94     23.3683]\n",
      " [ 518.67    642.24   1588.325  ...  100.       38.98     23.3861]\n",
      " [ 518.67    642.585  1588.805  ...  100.       38.895    23.3494]\n",
      " ...\n",
      " [ 518.67    643.97   1597.75   ...  100.       38.47     23.0422]\n",
      " [ 518.67    643.65   1603.5    ...  100.       38.52     23.1208]\n",
      " [ 518.67    643.75   1598.16   ...  100.       38.42     22.9782]]\n"
     ]
    }
   ],
   "source": [
    "mean_trend = (up_sensor_values + lo_sensor_values)/2\n",
    "print(mean_trend)"
   ]
  },
  {
   "cell_type": "code",
   "execution_count": 75,
   "metadata": {},
   "outputs": [],
   "source": [
    "# not used as it doesnt work!\n",
    "def monotonicity(sensor_number, mean_trend):\n",
    "    sensor_number -= 1\n",
    "    num_rows, num_cols = mean_trend.shape\n",
    "    LHS = []\n",
    "    RHS = []\n",
    "    for t in range(0, num_rows):\n",
    "        if(t == num_rows-1):\n",
    "            break\n",
    "        LHS.append(np.sign(mean_trend[t+1, sensor_number] - mean_trend[t, sensor_number]))\n",
    "        RHS.append(np.sign(mean_trend[t, sensor_number] - mean_trend[t+1, sensor_number]))\n",
    "    #print([a_i + b_i for a_i, b_i in zip(LHS, RHS)])\n",
    "    return abs(sum(LHS) - sum(RHS))/(num_rows-1)"
   ]
  },
  {
   "cell_type": "code",
   "execution_count": 76,
   "metadata": {},
   "outputs": [],
   "source": [
    "# Use MannKendall Trend Analysis\n",
    "import pymannkendall as mk\n",
    "mono = []\n",
    "def MannKendall(sensor_number, mean_trend):\n",
    "    sensor_number -= 1\n",
    "    trend, h, p, z, Tau, s, var_s, slope, intercept = mk.original_test([row[sensor_number] for row in mean_trend])\n",
    "    return Tau"
   ]
  },
  {
   "cell_type": "code",
   "execution_count": 77,
   "metadata": {},
   "outputs": [
    {
     "data": {
      "text/plain": [
       "<function matplotlib.pyplot.show(*args, **kw)>"
      ]
     },
     "execution_count": 77,
     "metadata": {},
     "output_type": "execute_result"
    },
    {
     "data": {
      "image/png": "[encoded data removed]",
      "text/plain": [
       "<Figure size 432x288 with 1 Axes>"
      ]
     },
     "metadata": {
      "needs_background": "light"
     },
     "output_type": "display_data"
    }
   ],
   "source": [
    "mono = []\n",
    "\n",
    "sensor_header = []\n",
    "for i in range(0, 21):\n",
    "    name = \"s\"\n",
    "    name = name + str(i+1)\n",
    "    sensor_header.append(name)\n",
    "\n",
    "for i in range(1, no_columns+1):\n",
    "    mono.append(abs(MannKendall(i, mean_trend)))\n",
    "\n",
    "y,x = zip(*sorted(zip(mono,sensor_header)))\n",
    "plt.bar(x, y)\n",
    "plt.xticks(rotation=45)\n",
    "plt.show\n",
    "# Based on MannKendall, sensor 2, 3, 4, 7, 8, 11, 12, 13, 15, 17, 20 and 21 are selected\n"
   ]
  },
  {
   "cell_type": "code",
   "execution_count": null,
   "metadata": {},
   "outputs": [],
   "source": [
    "\n",
    "    "
   ]
  }
 ],
 "metadata": {
  "kernelspec": {
   "display_name": "Python 3",
   "language": "python",
   "name": "python3"
  },
  "language_info": {
   "codemirror_mode": {
    "name": "ipython",
    "version": 3
   },
   "file_extension": ".py",
   "mimetype": "text/x-python",
   "name": "python",
   "nbconvert_exporter": "python",
   "pygments_lexer": "ipython3",
   "version": "3.7.6"
  }
 },
 "nbformat": 4,
 "nbformat_minor": 4
}
